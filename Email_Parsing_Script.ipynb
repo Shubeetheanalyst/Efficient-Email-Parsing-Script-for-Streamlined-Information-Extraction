{
 "cells": [
  {
   "cell_type": "markdown",
   "id": "4b09f035",
   "metadata": {},
   "source": [
    "# Liabraries"
   ]
  },
  {
   "cell_type": "code",
   "execution_count": 4,
   "id": "9c7aecb6",
   "metadata": {},
   "outputs": [],
   "source": [
    "import imaplib\n",
    "import email\n",
    "import re\n",
    "import datetime\n",
    "import gspread\n",
    "from oauth2client.service_account import ServiceAccountCredentials\n",
    "from googleapiclient.discovery import build"
   ]
  },
  {
   "cell_type": "markdown",
   "id": "47f7d76a",
   "metadata": {},
   "source": [
    "- Set up the connection to the Email account"
   ]
  },
  {
   "cell_type": "code",
   "execution_count": 5,
   "id": "85a44d29",
   "metadata": {},
   "outputs": [
    {
     "data": {
      "text/plain": [
       "('OK', [b'testingforcode71@gmail.com authenticated (Success)'])"
      ]
     },
     "execution_count": 5,
     "metadata": {},
     "output_type": "execute_result"
    }
   ],
   "source": [
    "# Set up the connection to the email account\n",
    "imap_server = \"imap.gmail.com\"\n",
    "imap_user = \"testingforcode71@gmail.com\"\n",
    "imap_pass = \"nxol npsi xhux uvxq\"\n",
    "imap = imaplib.IMAP4_SSL(imap_server)\n",
    "imap.login(imap_user, imap_pass)"
   ]
  },
  {
   "cell_type": "code",
   "execution_count": 8,
   "id": "5d24e31b",
   "metadata": {},
   "outputs": [
    {
     "data": {
      "text/plain": [
       "('OK', [b'6'])"
      ]
     },
     "execution_count": 8,
     "metadata": {},
     "output_type": "execute_result"
    }
   ],
   "source": [
    "# Select the mailbox where the notifications are stored\n",
    "mailbox = \"INBOX\"\n",
    "imap.select(mailbox)"
   ]
  },
  {
   "cell_type": "code",
   "execution_count": 38,
   "id": "d0b1139e",
   "metadata": {},
   "outputs": [],
   "source": [
    "# Search for emails matching certain criteria\n",
    "search_criteria = \"(FROM 'hafizsohaib478@gmail.com' SUBJECT 'Sohaib')\"\n",
    "result, data = imap.search(None, search_criteria)"
   ]
  },
  {
   "cell_type": "code",
   "execution_count": 46,
   "id": "fcb94702",
   "metadata": {},
   "outputs": [],
   "source": [
    "# Extract data from the emails and store it in a dictionary\n",
    "data_dict = {}\n",
    "for email_id in data[0].split():\n",
    "    _, email_data = imap.fetch(email_id, \"(RFC822)\")\n",
    "    _, email_body = email_data[0]\n",
    "    email_message = email.message_from_bytes(email_body)\n",
    "\n",
    "    # Extract relevant data from email message\n",
    "    timestamp = datetime.datetime.strptime(email_message['Date'], '%a, %d %b %Y %H:%M:%S %z').strftime('%Y-%m-%d %H:%M:%S')\n",
    "    subject = email_message['Subject']\n",
    "    body = email_message.get_payload()\n",
    "    # Use regex to extract data from the email body\n",
    "    match = re.search(r'Your data is: (\\d+)', body)\n",
    "    data_point = match.group(1)\n",
    "\n",
    "    # Add data to dictionary\n",
    "    data_dict[timestamp] = {'Subject': subject, 'Data': data_point}"
   ]
  },
  {
   "cell_type": "code",
   "execution_count": 48,
   "id": "a4c8b6cd",
   "metadata": {},
   "outputs": [],
   "source": [
    "# Connect to Google Sheets API\n",
    "scopes = ['https://www.googleapis.com/auth/spreadsheets']\n",
    "creds = ServiceAccountCredentials.from_json_keyfile_name('client_secret.json', scopes)\n",
    "sheets_service = build('sheets', 'v4', credentials=creds)\n",
    "drive_service = build('drive', 'v3', credentials=creds)"
   ]
  },
  {
   "cell_type": "code",
   "execution_count": null,
   "id": "b9803f92",
   "metadata": {},
   "outputs": [],
   "source": [
    "# Access the desired spreadsheet and worksheet\n",
    "spreadsheet_name = 'My Spreadsheet'\n",
    "worksheet_name = 'My Worksheet'\n",
    "sheet_metadata = sheets_service.spreadsheets().get(spreadsheetId='SPREADSHEET_ID').execute()\n",
    "sheet_id = sheet_metadata['sheets'][0]['properties']['sheetId']\n",
    "range_name = f'{worksheet_name}!A1:C{len(data_dict) + 1}'"
   ]
  },
  {
   "cell_type": "code",
   "execution_count": null,
   "id": "af0b7d69",
   "metadata": {},
   "outputs": [],
   "source": [
    "# Write data to Google Sheets\n",
    "values = []\n",
    "for timestamp, data in data_dict.items():\n",
    "    values.append([timestamp, data['Subject'], data['Data']])\n",
    "\n",
    "body = {'values': values}\n",
    "result = sheets_service.spreadsheets().values().update(\n",
    "    spreadsheetId='SPREADSHEET_ID',\n",
    "    range=range_name,\n",
    "    valueInputOption='USER_ENTERED',\n",
    "    body=body).execute()\n",
    "\n",
    "print(f\"{result.get('updatedCells')} cells updated.\")\n",
    "\n",
    "# Close the connection to the email account\n",
    "imap.close()\n",
    "imap.logout()"
   ]
  }
 ],
 "metadata": {
  "kernelspec": {
   "display_name": "Python 3 (ipykernel)",
   "language": "python",
   "name": "python3"
  },
  "language_info": {
   "codemirror_mode": {
    "name": "ipython",
    "version": 3
   },
   "file_extension": ".py",
   "mimetype": "text/x-python",
   "name": "python",
   "nbconvert_exporter": "python",
   "pygments_lexer": "ipython3",
   "version": "3.9.13"
  }
 },
 "nbformat": 4,
 "nbformat_minor": 5
}
